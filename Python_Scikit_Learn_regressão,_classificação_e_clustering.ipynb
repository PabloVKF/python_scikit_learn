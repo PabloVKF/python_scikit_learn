{
  "nbformat": 4,
  "nbformat_minor": 0,
  "metadata": {
    "colab": {
      "name": "Python Scikit-Learn: regressão, classificação e clustering.ipynb",
      "provenance": [],
      "authorship_tag": "ABX9TyPHHWgPkXtuCVMN7YtdnBYU",
      "include_colab_link": true
    },
    "kernelspec": {
      "name": "python3",
      "display_name": "Python 3"
    }
  },
  "cells": [
    {
      "cell_type": "markdown",
      "metadata": {
        "id": "view-in-github",
        "colab_type": "text"
      },
      "source": [
        "<a href=\"https://colab.research.google.com/github/PabloVKF/python_scikit_learn/blob/main/Python_Scikit_Learn_regress%C3%A3o%2C_classifica%C3%A7%C3%A3o_e_clustering.ipynb\" target=\"_parent\"><img src=\"https://colab.research.google.com/assets/colab-badge.svg\" alt=\"Open In Colab\"/></a>"
      ]
    },
    {
      "cell_type": "code",
      "metadata": {
        "id": "XEzvlyPSgUcy"
      },
      "source": [
        "import pandas as pd"
      ],
      "execution_count": 1,
      "outputs": []
    },
    {
      "cell_type": "code",
      "metadata": {
        "id": "KQ9pCYochQqy"
      },
      "source": [
        "passageiros = pd.read_csv('Passageiros.csv')"
      ],
      "execution_count": 2,
      "outputs": []
    },
    {
      "cell_type": "code",
      "metadata": {
        "colab": {
          "base_uri": "https://localhost:8080/",
          "height": 204
        },
        "id": "Pv7OavxShbPS",
        "outputId": "08c11da3-cd74-4e3a-a582-05d9de8a7064"
      },
      "source": [
        "passageiros.head()"
      ],
      "execution_count": 3,
      "outputs": [
        {
          "output_type": "execute_result",
          "data": {
            "text/html": [
              "<div>\n",
              "<style scoped>\n",
              "    .dataframe tbody tr th:only-of-type {\n",
              "        vertical-align: middle;\n",
              "    }\n",
              "\n",
              "    .dataframe tbody tr th {\n",
              "        vertical-align: top;\n",
              "    }\n",
              "\n",
              "    .dataframe thead th {\n",
              "        text-align: right;\n",
              "    }\n",
              "</style>\n",
              "<table border=\"1\" class=\"dataframe\">\n",
              "  <thead>\n",
              "    <tr style=\"text-align: right;\">\n",
              "      <th></th>\n",
              "      <th>tempo</th>\n",
              "      <th>nPassageiros</th>\n",
              "    </tr>\n",
              "  </thead>\n",
              "  <tbody>\n",
              "    <tr>\n",
              "      <th>0</th>\n",
              "      <td>1949.000000</td>\n",
              "      <td>112</td>\n",
              "    </tr>\n",
              "    <tr>\n",
              "      <th>1</th>\n",
              "      <td>1949.083333</td>\n",
              "      <td>118</td>\n",
              "    </tr>\n",
              "    <tr>\n",
              "      <th>2</th>\n",
              "      <td>1949.166667</td>\n",
              "      <td>132</td>\n",
              "    </tr>\n",
              "    <tr>\n",
              "      <th>3</th>\n",
              "      <td>1949.250000</td>\n",
              "      <td>129</td>\n",
              "    </tr>\n",
              "    <tr>\n",
              "      <th>4</th>\n",
              "      <td>1949.333333</td>\n",
              "      <td>121</td>\n",
              "    </tr>\n",
              "  </tbody>\n",
              "</table>\n",
              "</div>"
            ],
            "text/plain": [
              "         tempo  nPassageiros\n",
              "0  1949.000000           112\n",
              "1  1949.083333           118\n",
              "2  1949.166667           132\n",
              "3  1949.250000           129\n",
              "4  1949.333333           121"
            ]
          },
          "metadata": {},
          "execution_count": 3
        }
      ]
    },
    {
      "cell_type": "code",
      "metadata": {
        "id": "uJUc63TFhd4N"
      },
      "source": [
        "import seaborn as sns"
      ],
      "execution_count": 4,
      "outputs": []
    },
    {
      "cell_type": "code",
      "metadata": {
        "colab": {
          "base_uri": "https://localhost:8080/",
          "height": 296
        },
        "id": "UlvVif2oh15D",
        "outputId": "4a464673-99ed-4c3f-caca-0a5f3296d0d5"
      },
      "source": [
        "sns.lineplot(x=\"tempo\", y=\"nPassageiros\", data=passageiros)"
      ],
      "execution_count": 5,
      "outputs": [
        {
          "output_type": "execute_result",
          "data": {
            "text/plain": [
              "<matplotlib.axes._subplots.AxesSubplot at 0x7fc386fd5550>"
            ]
          },
          "metadata": {},
          "execution_count": 5
        },
        {
          "output_type": "display_data",
          "data": {
            "image/png": "[encoded data removed]",
            "text/plain": [
              "<Figure size 432x288 with 1 Axes>"
            ]
          },
          "metadata": {
            "needs_background": "light"
          }
        }
      ]
    },
    {
      "cell_type": "code",
      "metadata": {
        "id": "NWfKWgPTh2PZ"
      },
      "source": [
        "tempo = passageiros.iloc[:,:-1].values"
      ],
      "execution_count": 6,
      "outputs": []
    },
    {
      "cell_type": "code",
      "metadata": {
        "id": "jG1gksFWijpN"
      },
      "source": [
        "nPassageiros = passageiros.iloc[:,1].values"
      ],
      "execution_count": 7,
      "outputs": []
    },
    {
      "cell_type": "code",
      "metadata": {
        "id": "iiyySHGKitMG"
      },
      "source": [
        "from sklearn.model_selection import train_test_split"
      ],
      "execution_count": 8,
      "outputs": []
    },
    {
      "cell_type": "code",
      "metadata": {
        "id": "NX2gsnGnj2c3"
      },
      "source": [
        "tempo_treino, tempo_teste, nPassageiros_treino, nPassageiros_teste = train_test_split(tempo, nPassageiros, test_size = 0.3)"
      ],
      "execution_count": 9,
      "outputs": []
    },
    {
      "cell_type": "code",
      "metadata": {
        "id": "HaicI8VFj232"
      },
      "source": [
        "from sklearn import  linear_model"
      ],
      "execution_count": 10,
      "outputs": []
    },
    {
      "cell_type": "code",
      "metadata": {
        "id": "zcsVoF6gkJqq"
      },
      "source": [
        "regressor = linear_model.LinearRegression()"
      ],
      "execution_count": 11,
      "outputs": []
    },
    {
      "cell_type": "code",
      "metadata": {
        "colab": {
          "base_uri": "https://localhost:8080/"
        },
        "id": "mVmEIIIjkQPw",
        "outputId": "cd9578ca-15f0-489d-8a78-7fc0987f1600"
      },
      "source": [
        "regressor.fit(tempo_treino, nPassageiros_treino)"
      ],
      "execution_count": 12,
      "outputs": [
        {
          "output_type": "execute_result",
          "data": {
            "text/plain": [
              "LinearRegression(copy_X=True, fit_intercept=True, n_jobs=None, normalize=False)"
            ]
          },
          "metadata": {},
          "execution_count": 12
        }
      ]
    },
    {
      "cell_type": "code",
      "metadata": {
        "id": "O_luOOSika1u"
      },
      "source": [
        "nPassageiros_predito = regressor.predict(tempo_teste)"
      ],
      "execution_count": 13,
      "outputs": []
    },
    {
      "cell_type": "code",
      "metadata": {
        "id": "J3QIx8ZTkpo7"
      },
      "source": [
        "import numpy as np"
      ],
      "execution_count": 14,
      "outputs": []
    },
    {
      "cell_type": "code",
      "metadata": {
        "id": "r0G_QlssksBA"
      },
      "source": [
        "passageiros_predito = pd.DataFrame({'tempo': np.ndarray.flatten(tempo_teste), 'nPassageiros': nPassageiros_predito})"
      ],
      "execution_count": 15,
      "outputs": []
    },
    {
      "cell_type": "code",
      "metadata": {
        "id": "1ZYAZHQ6lHnM"
      },
      "source": [
        "passageiros_teste = pd.DataFrame({'tempo': np.ndarray.flatten(tempo_teste), 'nPassageiros': nPassageiros_teste})"
      ],
      "execution_count": 16,
      "outputs": []
    },
    {
      "cell_type": "code",
      "metadata": {
        "colab": {
          "base_uri": "https://localhost:8080/",
          "height": 296
        },
        "id": "_82pkGIllSd4",
        "outputId": "0eb98960-ba9e-414b-d94c-60c56a9e656a"
      },
      "source": [
        "sns.lineplot(x='tempo', y='nPassageiros', data = passageiros_teste, marker='o')\n",
        "sns.lineplot(x='tempo', y='nPassageiros', data = passageiros_predito, marker='o')"
      ],
      "execution_count": 17,
      "outputs": [
        {
          "output_type": "execute_result",
          "data": {
            "text/plain": [
              "<matplotlib.axes._subplots.AxesSubplot at 0x7fc385ca0c90>"
            ]
          },
          "metadata": {},
          "execution_count": 17
        },
        {
          "output_type": "display_data",
          "data": {
            "image/png": "[encoded data removed]",
            "text/plain": [
              "<Figure size 432x288 with 1 Axes>"
            ]
          },
          "metadata": {
            "needs_background": "light"
          }
        }
      ]
    },
    {
      "cell_type": "code",
      "metadata": {
        "id": "_TW7Upcnligm",
        "colab": {
          "base_uri": "https://localhost:8080/"
        },
        "outputId": "8ad661d1-0d90-4d04-cdd4-45e9a71f30a7"
      },
      "source": [
        "regressor.coef_"
      ],
      "execution_count": 18,
      "outputs": [
        {
          "output_type": "execute_result",
          "data": {
            "text/plain": [
              "array([32.20067609])"
            ]
          },
          "metadata": {},
          "execution_count": 18
        }
      ]
    },
    {
      "cell_type": "code",
      "metadata": {
        "colab": {
          "base_uri": "https://localhost:8080/"
        },
        "id": "udTB4Cdx9RDi",
        "outputId": "7319fa33-e70c-4b84-b873-14f0a93926bb"
      },
      "source": [
        "regressor.intercept_"
      ],
      "execution_count": 19,
      "outputs": [
        {
          "output_type": "execute_result",
          "data": {
            "text/plain": [
              "-62669.093757514376"
            ]
          },
          "metadata": {},
          "execution_count": 19
        }
      ]
    },
    {
      "cell_type": "code",
      "metadata": {
        "id": "Ni6tJwLA-NWu"
      },
      "source": [
        "from sklearn.metrics import r2_score"
      ],
      "execution_count": 20,
      "outputs": []
    },
    {
      "cell_type": "code",
      "metadata": {
        "colab": {
          "base_uri": "https://localhost:8080/"
        },
        "id": "tfUW4PEO9W1h",
        "outputId": "3d4cd43c-04a7-4f42-f1e5-498d325794b4"
      },
      "source": [
        "r2_score(nPassageiros_teste, nPassageiros_predito)"
      ],
      "execution_count": 21,
      "outputs": [
        {
          "output_type": "execute_result",
          "data": {
            "text/plain": [
              "0.8622758923650735"
            ]
          },
          "metadata": {},
          "execution_count": 21
        }
      ]
    },
    {
      "cell_type": "code",
      "metadata": {
        "id": "mTGz43gk_GYV"
      },
      "source": [
        "from sklearn.svm import SVR"
      ],
      "execution_count": 22,
      "outputs": []
    },
    {
      "cell_type": "code",
      "metadata": {
        "id": "Z_UjE59v-Vo4"
      },
      "source": [
        "regressor_svr = SVR(C=10000)"
      ],
      "execution_count": 23,
      "outputs": []
    },
    {
      "cell_type": "code",
      "metadata": {
        "colab": {
          "base_uri": "https://localhost:8080/"
        },
        "id": "s4dfoWXf_QQ6",
        "outputId": "10b836ae-8f7b-42b8-bfd6-49885c7bc523"
      },
      "source": [
        "regressor_svr.fit(tempo_treino, nPassageiros_treino)"
      ],
      "execution_count": 24,
      "outputs": [
        {
          "output_type": "execute_result",
          "data": {
            "text/plain": [
              "SVR(C=10000, cache_size=200, coef0=0.0, degree=3, epsilon=0.1, gamma='scale',\n",
              "    kernel='rbf', max_iter=-1, shrinking=True, tol=0.001, verbose=False)"
            ]
          },
          "metadata": {},
          "execution_count": 24
        }
      ]
    },
    {
      "cell_type": "code",
      "metadata": {
        "id": "Hyh3iHxp_ese"
      },
      "source": [
        "nPassageiros_predito_svr = regressor_svr.predict(tempo_teste)"
      ],
      "execution_count": 25,
      "outputs": []
    },
    {
      "cell_type": "code",
      "metadata": {
        "id": "SIvjnGjJ_uAy"
      },
      "source": [
        "passageiros_predito_svr = pd.DataFrame({'tempo': np.ndarray.flatten(tempo_teste), 'nPassageiros': nPassageiros_predito_svr})"
      ],
      "execution_count": 26,
      "outputs": []
    },
    {
      "cell_type": "code",
      "metadata": {
        "colab": {
          "base_uri": "https://localhost:8080/",
          "height": 296
        },
        "id": "yS7ynKg__63w",
        "outputId": "20b08f26-fb78-437c-a9ea-3640f1e49550"
      },
      "source": [
        "sns.lineplot(x='tempo', y='nPassageiros', data = passageiros_teste, marker='o')\n",
        "sns.lineplot(x='tempo', y='nPassageiros', data = passageiros_predito, marker='o')\n",
        "sns.lineplot(x='tempo', y='nPassageiros', data = passageiros_predito_svr, marker='o')"
      ],
      "execution_count": 27,
      "outputs": [
        {
          "output_type": "execute_result",
          "data": {
            "text/plain": [
              "<matplotlib.axes._subplots.AxesSubplot at 0x7fc382617e10>"
            ]
          },
          "metadata": {},
          "execution_count": 27
        },
        {
          "output_type": "display_data",
          "data": {
            "image/png": "[encoded data removed]",
            "text/plain": [
              "<Figure size 432x288 with 1 Axes>"
            ]
          },
          "metadata": {
            "needs_background": "light"
          }
        }
      ]
    },
    {
      "cell_type": "code",
      "metadata": {
        "colab": {
          "base_uri": "https://localhost:8080/"
        },
        "id": "PJsRJkxDACAy",
        "outputId": "01d2db80-f5c4-42e1-dcff-9f94b420422b"
      },
      "source": [
        "r2_score(nPassageiros_teste, nPassageiros_predito_svr)"
      ],
      "execution_count": 28,
      "outputs": [
        {
          "output_type": "execute_result",
          "data": {
            "text/plain": [
              "0.8883280092883414"
            ]
          },
          "metadata": {},
          "execution_count": 28
        }
      ]
    },
    {
      "cell_type": "code",
      "metadata": {
        "colab": {
          "base_uri": "https://localhost:8080/"
        },
        "id": "A60XkvDtAgIY",
        "outputId": "885d10fa-d518-4bc2-9e83-edb5e074f5a2"
      },
      "source": [
        "r2_score(nPassageiros_teste, nPassageiros_predito)"
      ],
      "execution_count": 29,
      "outputs": [
        {
          "output_type": "execute_result",
          "data": {
            "text/plain": [
              "0.8622758923650735"
            ]
          },
          "metadata": {},
          "execution_count": 29
        }
      ]
    },
    {
      "cell_type": "code",
      "metadata": {
        "id": "x7MTcOyDAkbb"
      },
      "source": [
        "celular = pd.read_csv(\"Celular.csv\", delimiter=\",\")"
      ],
      "execution_count": 30,
      "outputs": []
    },
    {
      "cell_type": "code",
      "metadata": {
        "colab": {
          "base_uri": "https://localhost:8080/",
          "height": 204
        },
        "id": "Ot2V-5EHppZs",
        "outputId": "5bba7702-0a6b-448a-e280-fcec243b9da4"
      },
      "source": [
        "celular.head()"
      ],
      "execution_count": 31,
      "outputs": [
        {
          "output_type": "execute_result",
          "data": {
            "text/html": [
              "<div>\n",
              "<style scoped>\n",
              "    .dataframe tbody tr th:only-of-type {\n",
              "        vertical-align: middle;\n",
              "    }\n",
              "\n",
              "    .dataframe tbody tr th {\n",
              "        vertical-align: top;\n",
              "    }\n",
              "\n",
              "    .dataframe thead th {\n",
              "        text-align: right;\n",
              "    }\n",
              "</style>\n",
              "<table border=\"1\" class=\"dataframe\">\n",
              "  <thead>\n",
              "    <tr style=\"text-align: right;\">\n",
              "      <th></th>\n",
              "      <th>salario</th>\n",
              "      <th>economias</th>\n",
              "      <th>idade</th>\n",
              "      <th>dividas</th>\n",
              "      <th>plano</th>\n",
              "    </tr>\n",
              "  </thead>\n",
              "  <tbody>\n",
              "    <tr>\n",
              "      <th>0</th>\n",
              "      <td>5.1</td>\n",
              "      <td>3.5</td>\n",
              "      <td>1.4</td>\n",
              "      <td>0.2</td>\n",
              "      <td>1</td>\n",
              "    </tr>\n",
              "    <tr>\n",
              "      <th>1</th>\n",
              "      <td>4.9</td>\n",
              "      <td>3.0</td>\n",
              "      <td>1.4</td>\n",
              "      <td>0.2</td>\n",
              "      <td>1</td>\n",
              "    </tr>\n",
              "    <tr>\n",
              "      <th>2</th>\n",
              "      <td>4.7</td>\n",
              "      <td>3.2</td>\n",
              "      <td>1.3</td>\n",
              "      <td>0.2</td>\n",
              "      <td>1</td>\n",
              "    </tr>\n",
              "    <tr>\n",
              "      <th>3</th>\n",
              "      <td>4.6</td>\n",
              "      <td>3.1</td>\n",
              "      <td>1.5</td>\n",
              "      <td>0.2</td>\n",
              "      <td>1</td>\n",
              "    </tr>\n",
              "    <tr>\n",
              "      <th>4</th>\n",
              "      <td>5.0</td>\n",
              "      <td>3.6</td>\n",
              "      <td>1.4</td>\n",
              "      <td>0.2</td>\n",
              "      <td>1</td>\n",
              "    </tr>\n",
              "  </tbody>\n",
              "</table>\n",
              "</div>"
            ],
            "text/plain": [
              "   salario  economias  idade  dividas  plano\n",
              "0      5.1        3.5    1.4      0.2      1\n",
              "1      4.9        3.0    1.4      0.2      1\n",
              "2      4.7        3.2    1.3      0.2      1\n",
              "3      4.6        3.1    1.5      0.2      1\n",
              "4      5.0        3.6    1.4      0.2      1"
            ]
          },
          "metadata": {},
          "execution_count": 31
        }
      ]
    },
    {
      "cell_type": "code",
      "metadata": {
        "colab": {
          "base_uri": "https://localhost:8080/",
          "height": 350
        },
        "id": "YbfW4G_sprZD",
        "outputId": "701eeb70-3ae3-46c0-fea2-c8c97a3c37d8"
      },
      "source": [
        "sns.distplot(celular[\"plano\"], bins=30, kde=False)"
      ],
      "execution_count": 32,
      "outputs": [
        {
          "output_type": "stream",
          "name": "stderr",
          "text": [
            "/usr/local/lib/python3.7/dist-packages/seaborn/distributions.py:2619: FutureWarning: `distplot` is a deprecated function and will be removed in a future version. Please adapt your code to use either `displot` (a figure-level function with similar flexibility) or `histplot` (an axes-level function for histograms).\n",
            "  warnings.warn(msg, FutureWarning)\n"
          ]
        },
        {
          "output_type": "execute_result",
          "data": {
            "text/plain": [
              "<matplotlib.axes._subplots.AxesSubplot at 0x7fc3825ab910>"
            ]
          },
          "metadata": {},
          "execution_count": 32
        },
        {
          "output_type": "display_data",
          "data": {
            "image/png": "[encoded data removed]",
            "text/plain": [
              "<Figure size 432x288 with 1 Axes>"
            ]
          },
          "metadata": {
            "needs_background": "light"
          }
        }
      ]
    },
    {
      "cell_type": "code",
      "metadata": {
        "id": "oG9cZ_rKp_MF"
      },
      "source": [
        "x = celular.iloc[:, :-1].values"
      ],
      "execution_count": 33,
      "outputs": []
    },
    {
      "cell_type": "code",
      "metadata": {
        "id": "VOuB3kQLq_6K"
      },
      "source": [
        "y = celular.iloc[:,4].values"
      ],
      "execution_count": 34,
      "outputs": []
    },
    {
      "cell_type": "code",
      "metadata": {
        "id": "_DSf0rLurJTM"
      },
      "source": [
        "x_treino, x_teste, y_treino, y_teste = train_test_split(x, y, test_size=0.3)"
      ],
      "execution_count": 35,
      "outputs": []
    },
    {
      "cell_type": "code",
      "metadata": {
        "id": "zML71MegrzgX"
      },
      "source": [
        "from sklearn import tree"
      ],
      "execution_count": 36,
      "outputs": []
    },
    {
      "cell_type": "code",
      "metadata": {
        "id": "yKRCncq_riUQ"
      },
      "source": [
        "classificador_arvore = tree.DecisionTreeClassifier()"
      ],
      "execution_count": 37,
      "outputs": []
    },
    {
      "cell_type": "code",
      "metadata": {
        "colab": {
          "base_uri": "https://localhost:8080/"
        },
        "id": "KonYH419r3_d",
        "outputId": "ab8d4d47-b25c-47e9-8ea1-f916d08e62ab"
      },
      "source": [
        "classificador_arvore.fit(x_treino, y_treino)"
      ],
      "execution_count": 38,
      "outputs": [
        {
          "output_type": "execute_result",
          "data": {
            "text/plain": [
              "DecisionTreeClassifier(ccp_alpha=0.0, class_weight=None, criterion='gini',\n",
              "                       max_depth=None, max_features=None, max_leaf_nodes=None,\n",
              "                       min_impurity_decrease=0.0, min_impurity_split=None,\n",
              "                       min_samples_leaf=1, min_samples_split=2,\n",
              "                       min_weight_fraction_leaf=0.0, presort='deprecated',\n",
              "                       random_state=None, splitter='best')"
            ]
          },
          "metadata": {},
          "execution_count": 38
        }
      ]
    },
    {
      "cell_type": "code",
      "metadata": {
        "id": "Z4BH5oWIr_9I"
      },
      "source": [
        "import graphviz"
      ],
      "execution_count": 39,
      "outputs": []
    },
    {
      "cell_type": "code",
      "metadata": {
        "id": "XBXCWGSvsHXg"
      },
      "source": [
        "dot_data = tree.export_graphviz(classificador_arvore, filled=True, out_file=None)"
      ],
      "execution_count": 40,
      "outputs": []
    },
    {
      "cell_type": "code",
      "metadata": {
        "colab": {
          "base_uri": "https://localhost:8080/",
          "height": 657
        },
        "id": "tbF4Uso5sWJv",
        "outputId": "1e11bee8-732d-4c3e-8d15-6c3ecf780978"
      },
      "source": [
        "graphviz.Source(dot_data)"
      ],
      "execution_count": 41,
      "outputs": [
        {
          "output_type": "execute_result",
          "data": {
            "text/plain": [
              "<graphviz.files.Source at 0x7fc380aea590>"
            ],
            "image/svg+xml": "<?xml version=\"1.0\" encoding=\"UTF-8\" standalone=\"no\"?>\n<!DOCTYPE svg PUBLIC \"-//W3C//DTD SVG 1.1//EN\"\n \"http://www.w3.org/Graphics/SVG/1.1/DTD/svg11.dtd\">\n<!-- Generated by graphviz version 2.40.1 (20161225.0304)\n -->\n<!-- Title: Tree Pages: 1 -->\n<svg width=\"512pt\" height=\"477pt\"\n viewBox=\"0.00 0.00 511.50 477.00\" xmlns=\"http://www.w3.org/2000/svg\" xmlns:xlink=\"http://www.w3.org/1999/xlink\">\n<g id=\"graph0\" class=\"graph\" transform=\"scale(1 1) rotate(0) translate(4 473)\">\n<title>Tree</title>\n<polygon fill=\"#ffffff\" stroke=\"transparent\" points=\"-4,4 -4,-473 507.5,-473 507.5,4 -4,4\"/>\n<!-- 0 -->\n<g id=\"node1\" class=\"node\">\n<title>0</title>\n<polygon fill=\"#fbf9fe\" stroke=\"#000000\" points=\"318.5,-469 186.5,-469 186.5,-401 318.5,-401 318.5,-469\"/>\n<text text-anchor=\"middle\" x=\"252.5\" y=\"-453.8\" font-family=\"Times,serif\" font-size=\"14.00\" fill=\"#000000\">X[2] &lt;= 2.45</text>\n<text text-anchor=\"middle\" x=\"252.5\" y=\"-438.8\" font-family=\"Times,serif\" font-size=\"14.00\" fill=\"#000000\">gini = 0.666</text>\n<text text-anchor=\"middle\" x=\"252.5\" y=\"-423.8\" font-family=\"Times,serif\" font-size=\"14.00\" fill=\"#000000\">samples = 105</text>\n<text text-anchor=\"middle\" x=\"252.5\" y=\"-408.8\" font-family=\"Times,serif\" font-size=\"14.00\" fill=\"#000000\">value = [35, 33, 37]</text>\n</g>\n<!-- 1 -->\n<g id=\"node2\" class=\"node\">\n<title>1</title>\n<polygon fill=\"#e58139\" stroke=\"#000000\" points=\"242,-357.5 125,-357.5 125,-304.5 242,-304.5 242,-357.5\"/>\n<text text-anchor=\"middle\" x=\"183.5\" y=\"-342.3\" font-family=\"Times,serif\" font-size=\"14.00\" fill=\"#000000\">gini = 0.0</text>\n<text text-anchor=\"middle\" x=\"183.5\" y=\"-327.3\" font-family=\"Times,serif\" font-size=\"14.00\" fill=\"#000000\">samples = 35</text>\n<text text-anchor=\"middle\" x=\"183.5\" y=\"-312.3\" font-family=\"Times,serif\" font-size=\"14.00\" fill=\"#000000\">value = [35, 0, 0]</text>\n</g>\n<!-- 0&#45;&gt;1 -->\n<g id=\"edge1\" class=\"edge\">\n<title>0&#45;&gt;1</title>\n<path fill=\"none\" stroke=\"#000000\" d=\"M229.9068,-400.9465C222.4527,-389.7113 214.1533,-377.2021 206.6577,-365.9043\"/>\n<polygon fill=\"#000000\" stroke=\"#000000\" points=\"209.5547,-363.94 201.1097,-357.5422 203.7218,-367.81 209.5547,-363.94\"/>\n<text text-anchor=\"middle\" x=\"196.1523\" y=\"-378.3457\" font-family=\"Times,serif\" font-size=\"14.00\" fill=\"#000000\">True</text>\n</g>\n<!-- 2 -->\n<g id=\"node3\" class=\"node\">\n<title>2</title>\n<polygon fill=\"#f1eafc\" stroke=\"#000000\" points=\"385,-365 260,-365 260,-297 385,-297 385,-365\"/>\n<text text-anchor=\"middle\" x=\"322.5\" y=\"-349.8\" font-family=\"Times,serif\" font-size=\"14.00\" fill=\"#000000\">X[3] &lt;= 1.75</text>\n<text text-anchor=\"middle\" x=\"322.5\" y=\"-334.8\" font-family=\"Times,serif\" font-size=\"14.00\" fill=\"#000000\">gini = 0.498</text>\n<text text-anchor=\"middle\" x=\"322.5\" y=\"-319.8\" font-family=\"Times,serif\" font-size=\"14.00\" fill=\"#000000\">samples = 70</text>\n<text text-anchor=\"middle\" x=\"322.5\" y=\"-304.8\" font-family=\"Times,serif\" font-size=\"14.00\" fill=\"#000000\">value = [0, 33, 37]</text>\n</g>\n<!-- 0&#45;&gt;2 -->\n<g id=\"edge2\" class=\"edge\">\n<title>0&#45;&gt;2</title>\n<path fill=\"none\" stroke=\"#000000\" d=\"M275.4206,-400.9465C281.2826,-392.2373 287.6598,-382.7626 293.773,-373.6801\"/>\n<polygon fill=\"#000000\" stroke=\"#000000\" points=\"296.8476,-375.3802 299.5279,-365.13 291.0405,-371.4716 296.8476,-375.3802\"/>\n<text text-anchor=\"middle\" x=\"304.3223\" y=\"-385.966\" font-family=\"Times,serif\" font-size=\"14.00\" fill=\"#000000\">False</text>\n</g>\n<!-- 3 -->\n<g id=\"node4\" class=\"node\">\n<title>3</title>\n<polygon fill=\"#51e890\" stroke=\"#000000\" points=\"314,-261 197,-261 197,-193 314,-193 314,-261\"/>\n<text text-anchor=\"middle\" x=\"255.5\" y=\"-245.8\" font-family=\"Times,serif\" font-size=\"14.00\" fill=\"#000000\">X[2] &lt;= 4.95</text>\n<text text-anchor=\"middle\" x=\"255.5\" y=\"-230.8\" font-family=\"Times,serif\" font-size=\"14.00\" fill=\"#000000\">gini = 0.193</text>\n<text text-anchor=\"middle\" x=\"255.5\" y=\"-215.8\" font-family=\"Times,serif\" font-size=\"14.00\" fill=\"#000000\">samples = 37</text>\n<text text-anchor=\"middle\" x=\"255.5\" y=\"-200.8\" font-family=\"Times,serif\" font-size=\"14.00\" fill=\"#000000\">value = [0, 33, 4]</text>\n</g>\n<!-- 2&#45;&gt;3 -->\n<g id=\"edge3\" class=\"edge\">\n<title>2&#45;&gt;3</title>\n<path fill=\"none\" stroke=\"#000000\" d=\"M300.5617,-296.9465C294.951,-288.2373 288.8471,-278.7626 282.9958,-269.6801\"/>\n<polygon fill=\"#000000\" stroke=\"#000000\" points=\"285.8457,-267.641 277.4876,-261.13 279.9611,-271.4321 285.8457,-267.641\"/>\n</g>\n<!-- 10 -->\n<g id=\"node11\" class=\"node\">\n<title>10</title>\n<polygon fill=\"#8139e5\" stroke=\"#000000\" points=\"449,-253.5 332,-253.5 332,-200.5 449,-200.5 449,-253.5\"/>\n<text text-anchor=\"middle\" x=\"390.5\" y=\"-238.3\" font-family=\"Times,serif\" font-size=\"14.00\" fill=\"#000000\">gini = 0.0</text>\n<text text-anchor=\"middle\" x=\"390.5\" y=\"-223.3\" font-family=\"Times,serif\" font-size=\"14.00\" fill=\"#000000\">samples = 33</text>\n<text text-anchor=\"middle\" x=\"390.5\" y=\"-208.3\" font-family=\"Times,serif\" font-size=\"14.00\" fill=\"#000000\">value = [0, 0, 33]</text>\n</g>\n<!-- 2&#45;&gt;10 -->\n<g id=\"edge10\" class=\"edge\">\n<title>2&#45;&gt;10</title>\n<path fill=\"none\" stroke=\"#000000\" d=\"M344.7657,-296.9465C352.0398,-285.8215 360.1306,-273.4473 367.4604,-262.237\"/>\n<polygon fill=\"#000000\" stroke=\"#000000\" points=\"370.6024,-263.8273 373.1455,-253.5422 364.7436,-259.9965 370.6024,-263.8273\"/>\n</g>\n<!-- 4 -->\n<g id=\"node5\" class=\"node\">\n<title>4</title>\n<polygon fill=\"#3fe685\" stroke=\"#000000\" points=\"248,-157 131,-157 131,-89 248,-89 248,-157\"/>\n<text text-anchor=\"middle\" x=\"189.5\" y=\"-141.8\" font-family=\"Times,serif\" font-size=\"14.00\" fill=\"#000000\">X[3] &lt;= 1.65</text>\n<text text-anchor=\"middle\" x=\"189.5\" y=\"-126.8\" font-family=\"Times,serif\" font-size=\"14.00\" fill=\"#000000\">gini = 0.061</text>\n<text text-anchor=\"middle\" x=\"189.5\" y=\"-111.8\" font-family=\"Times,serif\" font-size=\"14.00\" fill=\"#000000\">samples = 32</text>\n<text text-anchor=\"middle\" x=\"189.5\" y=\"-96.8\" font-family=\"Times,serif\" font-size=\"14.00\" fill=\"#000000\">value = [0, 31, 1]</text>\n</g>\n<!-- 3&#45;&gt;4 -->\n<g id=\"edge4\" class=\"edge\">\n<title>3&#45;&gt;4</title>\n<path fill=\"none\" stroke=\"#000000\" d=\"M233.8891,-192.9465C228.3622,-184.2373 222.3494,-174.7626 216.5854,-165.6801\"/>\n<polygon fill=\"#000000\" stroke=\"#000000\" points=\"219.4729,-163.6979 211.1594,-157.13 213.5626,-167.4487 219.4729,-163.6979\"/>\n</g>\n<!-- 7 -->\n<g id=\"node8\" class=\"node\">\n<title>7</title>\n<polygon fill=\"#d5bdf6\" stroke=\"#000000\" points=\"376.5,-157 266.5,-157 266.5,-89 376.5,-89 376.5,-157\"/>\n<text text-anchor=\"middle\" x=\"321.5\" y=\"-141.8\" font-family=\"Times,serif\" font-size=\"14.00\" fill=\"#000000\">X[3] &lt;= 1.55</text>\n<text text-anchor=\"middle\" x=\"321.5\" y=\"-126.8\" font-family=\"Times,serif\" font-size=\"14.00\" fill=\"#000000\">gini = 0.48</text>\n<text text-anchor=\"middle\" x=\"321.5\" y=\"-111.8\" font-family=\"Times,serif\" font-size=\"14.00\" fill=\"#000000\">samples = 5</text>\n<text text-anchor=\"middle\" x=\"321.5\" y=\"-96.8\" font-family=\"Times,serif\" font-size=\"14.00\" fill=\"#000000\">value = [0, 2, 3]</text>\n</g>\n<!-- 3&#45;&gt;7 -->\n<g id=\"edge7\" class=\"edge\">\n<title>3&#45;&gt;7</title>\n<path fill=\"none\" stroke=\"#000000\" d=\"M277.1109,-192.9465C282.6378,-184.2373 288.6506,-174.7626 294.4146,-165.6801\"/>\n<polygon fill=\"#000000\" stroke=\"#000000\" points=\"297.4374,-167.4487 299.8406,-157.13 291.5271,-163.6979 297.4374,-167.4487\"/>\n</g>\n<!-- 5 -->\n<g id=\"node6\" class=\"node\">\n<title>5</title>\n<polygon fill=\"#39e581\" stroke=\"#000000\" points=\"117,-53 0,-53 0,0 117,0 117,-53\"/>\n<text text-anchor=\"middle\" x=\"58.5\" y=\"-37.8\" font-family=\"Times,serif\" font-size=\"14.00\" fill=\"#000000\">gini = 0.0</text>\n<text text-anchor=\"middle\" x=\"58.5\" y=\"-22.8\" font-family=\"Times,serif\" font-size=\"14.00\" fill=\"#000000\">samples = 31</text>\n<text text-anchor=\"middle\" x=\"58.5\" y=\"-7.8\" font-family=\"Times,serif\" font-size=\"14.00\" fill=\"#000000\">value = [0, 31, 0]</text>\n</g>\n<!-- 4&#45;&gt;5 -->\n<g id=\"edge5\" class=\"edge\">\n<title>4&#45;&gt;5</title>\n<path fill=\"none\" stroke=\"#000000\" d=\"M143.3143,-88.9777C130.2621,-79.3629 116.0861,-68.9203 103.1273,-59.3743\"/>\n<polygon fill=\"#000000\" stroke=\"#000000\" points=\"104.9386,-56.3615 94.8114,-53.2485 100.7869,-61.9974 104.9386,-56.3615\"/>\n</g>\n<!-- 6 -->\n<g id=\"node7\" class=\"node\">\n<title>6</title>\n<polygon fill=\"#8139e5\" stroke=\"#000000\" points=\"245.5,-53 135.5,-53 135.5,0 245.5,0 245.5,-53\"/>\n<text text-anchor=\"middle\" x=\"190.5\" y=\"-37.8\" font-family=\"Times,serif\" font-size=\"14.00\" fill=\"#000000\">gini = 0.0</text>\n<text text-anchor=\"middle\" x=\"190.5\" y=\"-22.8\" font-family=\"Times,serif\" font-size=\"14.00\" fill=\"#000000\">samples = 1</text>\n<text text-anchor=\"middle\" x=\"190.5\" y=\"-7.8\" font-family=\"Times,serif\" font-size=\"14.00\" fill=\"#000000\">value = [0, 0, 1]</text>\n</g>\n<!-- 4&#45;&gt;6 -->\n<g id=\"edge6\" class=\"edge\">\n<title>4&#45;&gt;6</title>\n<path fill=\"none\" stroke=\"#000000\" d=\"M189.8526,-88.9777C189.938,-80.7364 190.0297,-71.887 190.1164,-63.5153\"/>\n<polygon fill=\"#000000\" stroke=\"#000000\" points=\"193.6189,-63.2842 190.2228,-53.2485 186.6193,-63.2116 193.6189,-63.2842\"/>\n</g>\n<!-- 8 -->\n<g id=\"node9\" class=\"node\">\n<title>8</title>\n<polygon fill=\"#8139e5\" stroke=\"#000000\" points=\"375.5,-53 265.5,-53 265.5,0 375.5,0 375.5,-53\"/>\n<text text-anchor=\"middle\" x=\"320.5\" y=\"-37.8\" font-family=\"Times,serif\" font-size=\"14.00\" fill=\"#000000\">gini = 0.0</text>\n<text text-anchor=\"middle\" x=\"320.5\" y=\"-22.8\" font-family=\"Times,serif\" font-size=\"14.00\" fill=\"#000000\">samples = 3</text>\n<text text-anchor=\"middle\" x=\"320.5\" y=\"-7.8\" font-family=\"Times,serif\" font-size=\"14.00\" fill=\"#000000\">value = [0, 0, 3]</text>\n</g>\n<!-- 7&#45;&gt;8 -->\n<g id=\"edge8\" class=\"edge\">\n<title>7&#45;&gt;8</title>\n<path fill=\"none\" stroke=\"#000000\" d=\"M321.1474,-88.9777C321.062,-80.7364 320.9703,-71.887 320.8836,-63.5153\"/>\n<polygon fill=\"#000000\" stroke=\"#000000\" points=\"324.3807,-63.2116 320.7772,-53.2485 317.3811,-63.2842 324.3807,-63.2116\"/>\n</g>\n<!-- 9 -->\n<g id=\"node10\" class=\"node\">\n<title>9</title>\n<polygon fill=\"#39e581\" stroke=\"#000000\" points=\"503.5,-53 393.5,-53 393.5,0 503.5,0 503.5,-53\"/>\n<text text-anchor=\"middle\" x=\"448.5\" y=\"-37.8\" font-family=\"Times,serif\" font-size=\"14.00\" fill=\"#000000\">gini = 0.0</text>\n<text text-anchor=\"middle\" x=\"448.5\" y=\"-22.8\" font-family=\"Times,serif\" font-size=\"14.00\" fill=\"#000000\">samples = 2</text>\n<text text-anchor=\"middle\" x=\"448.5\" y=\"-7.8\" font-family=\"Times,serif\" font-size=\"14.00\" fill=\"#000000\">value = [0, 2, 0]</text>\n</g>\n<!-- 7&#45;&gt;9 -->\n<g id=\"edge9\" class=\"edge\">\n<title>7&#45;&gt;9</title>\n<path fill=\"none\" stroke=\"#000000\" d=\"M366.2754,-88.9777C378.9292,-79.3629 392.6723,-68.9203 405.2353,-59.3743\"/>\n<polygon fill=\"#000000\" stroke=\"#000000\" points=\"407.4526,-62.0853 413.2973,-53.2485 403.2176,-56.5118 407.4526,-62.0853\"/>\n</g>\n</g>\n</svg>\n"
          },
          "metadata": {},
          "execution_count": 41
        }
      ]
    },
    {
      "cell_type": "code",
      "metadata": {
        "id": "sasNYO1DscFH"
      },
      "source": [
        "plano_previsto = classificador_arvore.predict(x_teste)"
      ],
      "execution_count": 42,
      "outputs": []
    },
    {
      "cell_type": "code",
      "metadata": {
        "colab": {
          "base_uri": "https://localhost:8080/"
        },
        "id": "Ji_mYFTots3R",
        "outputId": "50dad93a-da8d-4b09-f208-4d221094208f"
      },
      "source": [
        "plano_previsto"
      ],
      "execution_count": 43,
      "outputs": [
        {
          "output_type": "execute_result",
          "data": {
            "text/plain": [
              "array([2, 1, 3, 1, 1, 2, 3, 2, 2, 1, 3, 1, 3, 3, 2, 1, 2, 1, 2, 1, 3, 1,\n",
              "       1, 2, 3, 1, 2, 2, 2, 2, 3, 1, 3, 1, 3, 1, 2, 2, 3, 2, 3, 2, 1, 3,\n",
              "       2])"
            ]
          },
          "metadata": {},
          "execution_count": 43
        }
      ]
    },
    {
      "cell_type": "code",
      "metadata": {
        "colab": {
          "base_uri": "https://localhost:8080/",
          "height": 336
        },
        "id": "T7YnwNbDttxj",
        "outputId": "376a40dc-c946-410e-a552-2b06075d7c26"
      },
      "source": [
        "sns.distplot(y_teste, bins=6, kde=False)\n",
        "sns.distplot(plano_previsto, bins=5, kde=False)"
      ],
      "execution_count": 44,
      "outputs": [
        {
          "output_type": "stream",
          "name": "stderr",
          "text": [
            "/usr/local/lib/python3.7/dist-packages/seaborn/distributions.py:2619: FutureWarning: `distplot` is a deprecated function and will be removed in a future version. Please adapt your code to use either `displot` (a figure-level function with similar flexibility) or `histplot` (an axes-level function for histograms).\n",
            "  warnings.warn(msg, FutureWarning)\n"
          ]
        },
        {
          "output_type": "execute_result",
          "data": {
            "text/plain": [
              "<matplotlib.axes._subplots.AxesSubplot at 0x7fc380aeac90>"
            ]
          },
          "metadata": {},
          "execution_count": 44
        },
        {
          "output_type": "display_data",
          "data": {
            "image/png": "[encoded data removed]",
            "text/plain": [
              "<Figure size 432x288 with 1 Axes>"
            ]
          },
          "metadata": {
            "needs_background": "light"
          }
        }
      ]
    },
    {
      "cell_type": "code",
      "metadata": {
        "id": "N3NSCiZauSb8"
      },
      "source": [
        "from sklearn.metrics import accuracy_score"
      ],
      "execution_count": 45,
      "outputs": []
    },
    {
      "cell_type": "code",
      "metadata": {
        "colab": {
          "base_uri": "https://localhost:8080/"
        },
        "id": "Dddg66Set2Uu",
        "outputId": "620e4144-8056-466a-ee03-3c0d434b373a"
      },
      "source": [
        "accuracy_score(y_teste, plano_previsto)*100"
      ],
      "execution_count": 46,
      "outputs": [
        {
          "output_type": "execute_result",
          "data": {
            "text/plain": [
              "95.55555555555556"
            ]
          },
          "metadata": {},
          "execution_count": 46
        }
      ]
    },
    {
      "cell_type": "code",
      "metadata": {
        "id": "LR8izPzzu3gB"
      },
      "source": [
        "from sklearn.neighbors import KNeighborsClassifier"
      ],
      "execution_count": 47,
      "outputs": []
    },
    {
      "cell_type": "code",
      "metadata": {
        "id": "ViLQ08-6uXXw"
      },
      "source": [
        "classificador_vizinho = KNeighborsClassifier(5)"
      ],
      "execution_count": 48,
      "outputs": []
    },
    {
      "cell_type": "code",
      "metadata": {
        "colab": {
          "base_uri": "https://localhost:8080/"
        },
        "id": "Q3Fg9d_-vGNr",
        "outputId": "a24fc850-3f7a-49c5-8e16-3c49e4695fea"
      },
      "source": [
        "classificador_vizinho.fit(x_treino, y_treino)"
      ],
      "execution_count": 49,
      "outputs": [
        {
          "output_type": "execute_result",
          "data": {
            "text/plain": [
              "KNeighborsClassifier(algorithm='auto', leaf_size=30, metric='minkowski',\n",
              "                     metric_params=None, n_jobs=None, n_neighbors=5, p=2,\n",
              "                     weights='uniform')"
            ]
          },
          "metadata": {},
          "execution_count": 49
        }
      ]
    },
    {
      "cell_type": "code",
      "metadata": {
        "id": "MEofcTi0vOB-"
      },
      "source": [
        "plano_previsto_v = classificador_vizinho.predict(x_teste)"
      ],
      "execution_count": 50,
      "outputs": []
    },
    {
      "cell_type": "code",
      "metadata": {
        "colab": {
          "base_uri": "https://localhost:8080/",
          "height": 336
        },
        "id": "qN-jsn5QvaPO",
        "outputId": "b0c96826-a4a1-49a4-ebc9-2b7a76f78d91"
      },
      "source": [
        "sns.distplot(y_teste, bins=6, kde=False)\n",
        "sns.distplot(plano_previsto_v, bins=6, kde=False)"
      ],
      "execution_count": 51,
      "outputs": [
        {
          "output_type": "stream",
          "name": "stderr",
          "text": [
            "/usr/local/lib/python3.7/dist-packages/seaborn/distributions.py:2619: FutureWarning: `distplot` is a deprecated function and will be removed in a future version. Please adapt your code to use either `displot` (a figure-level function with similar flexibility) or `histplot` (an axes-level function for histograms).\n",
            "  warnings.warn(msg, FutureWarning)\n"
          ]
        },
        {
          "output_type": "execute_result",
          "data": {
            "text/plain": [
              "<matplotlib.axes._subplots.AxesSubplot at 0x7fc380a2c950>"
            ]
          },
          "metadata": {},
          "execution_count": 51
        },
        {
          "output_type": "display_data",
          "data": {
            "image/png": "[encoded data removed]",
            "text/plain": [
              "<Figure size 432x288 with 1 Axes>"
            ]
          },
          "metadata": {
            "needs_background": "light"
          }
        }
      ]
    },
    {
      "cell_type": "code",
      "metadata": {
        "colab": {
          "base_uri": "https://localhost:8080/"
        },
        "id": "QSimWjXZvemw",
        "outputId": "63f60da2-5089-4e2c-b41a-5ce2d90496f1"
      },
      "source": [
        "accuracy_score(y_teste, plano_previsto_v)*100"
      ],
      "execution_count": 52,
      "outputs": [
        {
          "output_type": "execute_result",
          "data": {
            "text/plain": [
              "97.77777777777777"
            ]
          },
          "metadata": {},
          "execution_count": 52
        }
      ]
    },
    {
      "cell_type": "code",
      "metadata": {
        "id": "oXDYMHH2vvd1"
      },
      "source": [
        "plano_previsto_v2 = classificador_vizinho.predict(x_treino)"
      ],
      "execution_count": 53,
      "outputs": []
    },
    {
      "cell_type": "code",
      "metadata": {
        "colab": {
          "base_uri": "https://localhost:8080/"
        },
        "id": "RFAnSXIewfor",
        "outputId": "fba1bfd9-f9ea-4e48-be05-72ff5514e55a"
      },
      "source": [
        "accuracy_score(y_treino, plano_previsto_v2)*100"
      ],
      "execution_count": 54,
      "outputs": [
        {
          "output_type": "execute_result",
          "data": {
            "text/plain": [
              "96.19047619047619"
            ]
          },
          "metadata": {},
          "execution_count": 54
        }
      ]
    },
    {
      "cell_type": "code",
      "metadata": {
        "id": "-ne5BZR2xSN5"
      },
      "source": [
        "from sklearn.model_selection import RepeatedStratifiedKFold"
      ],
      "execution_count": 55,
      "outputs": []
    },
    {
      "cell_type": "code",
      "metadata": {
        "id": "UgKgwdYtwkEE"
      },
      "source": [
        "skfold = RepeatedStratifiedKFold(n_splits=10, n_repeats=10, random_state=0)"
      ],
      "execution_count": 56,
      "outputs": []
    },
    {
      "cell_type": "code",
      "metadata": {
        "id": "TYI--bsxyJGd"
      },
      "source": [
        "from sklearn.model_selection import GridSearchCV"
      ],
      "execution_count": 57,
      "outputs": []
    },
    {
      "cell_type": "code",
      "metadata": {
        "id": "wbhkEyf1yPfu"
      },
      "source": [
        "params = {\"n_neighbors\": [5]}"
      ],
      "execution_count": 58,
      "outputs": []
    },
    {
      "cell_type": "code",
      "metadata": {
        "id": "vuYEUDaaxcnE"
      },
      "source": [
        "gs = GridSearchCV(estimator=KNeighborsClassifier(), param_grid=params, cv=skfold, verbose=1, scoring=\"accuracy\", return_train_score=True)"
      ],
      "execution_count": 59,
      "outputs": []
    },
    {
      "cell_type": "code",
      "metadata": {
        "colab": {
          "base_uri": "https://localhost:8080/"
        },
        "id": "FL9svwk3yZw_",
        "outputId": "8f1e1edf-278e-4055-b259-ea74934d59fe"
      },
      "source": [
        "gs.fit(x, y)"
      ],
      "execution_count": 60,
      "outputs": [
        {
          "output_type": "stream",
          "name": "stdout",
          "text": [
            "Fitting 100 folds for each of 1 candidates, totalling 100 fits\n"
          ]
        },
        {
          "output_type": "stream",
          "name": "stderr",
          "text": [
            "[Parallel(n_jobs=1)]: Using backend SequentialBackend with 1 concurrent workers.\n",
            "[Parallel(n_jobs=1)]: Done 100 out of 100 | elapsed:    1.0s finished\n"
          ]
        },
        {
          "output_type": "execute_result",
          "data": {
            "text/plain": [
              "GridSearchCV(cv=RepeatedStratifiedKFold(n_repeats=10, n_splits=10, random_state=0),\n",
              "             error_score=nan,\n",
              "             estimator=KNeighborsClassifier(algorithm='auto', leaf_size=30,\n",
              "                                            metric='minkowski',\n",
              "                                            metric_params=None, n_jobs=None,\n",
              "                                            n_neighbors=5, p=2,\n",
              "                                            weights='uniform'),\n",
              "             iid='deprecated', n_jobs=None, param_grid={'n_neighbors': [5]},\n",
              "             pre_dispatch='2*n_jobs', refit=True, return_train_score=True,\n",
              "             scoring='accuracy', verbose=1)"
            ]
          },
          "metadata": {},
          "execution_count": 60
        }
      ]
    },
    {
      "cell_type": "code",
      "metadata": {
        "colab": {
          "base_uri": "https://localhost:8080/"
        },
        "id": "4mcFKqSLyhKl",
        "outputId": "4dd584a6-3fe4-44e3-daf7-6f3ac96a6cf7"
      },
      "source": [
        "gs.cv_results_['mean_test_score']"
      ],
      "execution_count": 61,
      "outputs": [
        {
          "output_type": "execute_result",
          "data": {
            "text/plain": [
              "array([0.964])"
            ]
          },
          "metadata": {},
          "execution_count": 61
        }
      ]
    },
    {
      "cell_type": "code",
      "metadata": {
        "id": "cKDDyaPwyrCV"
      },
      "source": [
        "engajamento = pd.read_csv(\"Engajamento.csv\")"
      ],
      "execution_count": 62,
      "outputs": []
    },
    {
      "cell_type": "code",
      "metadata": {
        "colab": {
          "base_uri": "https://localhost:8080/",
          "height": 204
        },
        "id": "YFcOvEImNgcj",
        "outputId": "c2ef398f-c660-48b0-feb0-ed05cf03da1c"
      },
      "source": [
        "engajamento.head()"
      ],
      "execution_count": 63,
      "outputs": [
        {
          "output_type": "execute_result",
          "data": {
            "text/html": [
              "<div>\n",
              "<style scoped>\n",
              "    .dataframe tbody tr th:only-of-type {\n",
              "        vertical-align: middle;\n",
              "    }\n",
              "\n",
              "    .dataframe tbody tr th {\n",
              "        vertical-align: top;\n",
              "    }\n",
              "\n",
              "    .dataframe thead th {\n",
              "        text-align: right;\n",
              "    }\n",
              "</style>\n",
              "<table border=\"1\" class=\"dataframe\">\n",
              "  <thead>\n",
              "    <tr style=\"text-align: right;\">\n",
              "      <th></th>\n",
              "      <th>Horas</th>\n",
              "      <th>Taxa de Cliques</th>\n",
              "      <th>Classe</th>\n",
              "    </tr>\n",
              "  </thead>\n",
              "  <tbody>\n",
              "    <tr>\n",
              "      <th>0</th>\n",
              "      <td>1007.084589</td>\n",
              "      <td>1.582099</td>\n",
              "      <td>1</td>\n",
              "    </tr>\n",
              "    <tr>\n",
              "      <th>1</th>\n",
              "      <td>1005.886193</td>\n",
              "      <td>1.524809</td>\n",
              "      <td>1</td>\n",
              "    </tr>\n",
              "    <tr>\n",
              "      <th>2</th>\n",
              "      <td>1005.609471</td>\n",
              "      <td>0.846857</td>\n",
              "      <td>1</td>\n",
              "    </tr>\n",
              "    <tr>\n",
              "      <th>3</th>\n",
              "      <td>989.814354</td>\n",
              "      <td>2.841944</td>\n",
              "      <td>2</td>\n",
              "    </tr>\n",
              "    <tr>\n",
              "      <th>4</th>\n",
              "      <td>995.328807</td>\n",
              "      <td>3.569900</td>\n",
              "      <td>3</td>\n",
              "    </tr>\n",
              "  </tbody>\n",
              "</table>\n",
              "</div>"
            ],
            "text/plain": [
              "         Horas  Taxa de Cliques  Classe\n",
              "0  1007.084589         1.582099       1\n",
              "1  1005.886193         1.524809       1\n",
              "2  1005.609471         0.846857       1\n",
              "3   989.814354         2.841944       2\n",
              "4   995.328807         3.569900       3"
            ]
          },
          "metadata": {},
          "execution_count": 63
        }
      ]
    },
    {
      "cell_type": "code",
      "metadata": {
        "id": "h8U0afV6Nk2B"
      },
      "source": [
        "x = engajamento.iloc[:,:-1]"
      ],
      "execution_count": 64,
      "outputs": []
    },
    {
      "cell_type": "code",
      "metadata": {
        "colab": {
          "base_uri": "https://localhost:8080/",
          "height": 419
        },
        "id": "69qXaaXANzAb",
        "outputId": "46fe75bd-7588-464c-9783-e22073166148"
      },
      "source": [
        "x"
      ],
      "execution_count": 65,
      "outputs": [
        {
          "output_type": "execute_result",
          "data": {
            "text/html": [
              "<div>\n",
              "<style scoped>\n",
              "    .dataframe tbody tr th:only-of-type {\n",
              "        vertical-align: middle;\n",
              "    }\n",
              "\n",
              "    .dataframe tbody tr th {\n",
              "        vertical-align: top;\n",
              "    }\n",
              "\n",
              "    .dataframe thead th {\n",
              "        text-align: right;\n",
              "    }\n",
              "</style>\n",
              "<table border=\"1\" class=\"dataframe\">\n",
              "  <thead>\n",
              "    <tr style=\"text-align: right;\">\n",
              "      <th></th>\n",
              "      <th>Horas</th>\n",
              "      <th>Taxa de Cliques</th>\n",
              "    </tr>\n",
              "  </thead>\n",
              "  <tbody>\n",
              "    <tr>\n",
              "      <th>0</th>\n",
              "      <td>1007.084589</td>\n",
              "      <td>1.582099</td>\n",
              "    </tr>\n",
              "    <tr>\n",
              "      <th>1</th>\n",
              "      <td>1005.886193</td>\n",
              "      <td>1.524809</td>\n",
              "    </tr>\n",
              "    <tr>\n",
              "      <th>2</th>\n",
              "      <td>1005.609471</td>\n",
              "      <td>0.846857</td>\n",
              "    </tr>\n",
              "    <tr>\n",
              "      <th>3</th>\n",
              "      <td>989.814354</td>\n",
              "      <td>2.841944</td>\n",
              "    </tr>\n",
              "    <tr>\n",
              "      <th>4</th>\n",
              "      <td>995.328807</td>\n",
              "      <td>3.569900</td>\n",
              "    </tr>\n",
              "    <tr>\n",
              "      <th>...</th>\n",
              "      <td>...</td>\n",
              "      <td>...</td>\n",
              "    </tr>\n",
              "    <tr>\n",
              "      <th>4995</th>\n",
              "      <td>991.447007</td>\n",
              "      <td>5.428443</td>\n",
              "    </tr>\n",
              "    <tr>\n",
              "      <th>4996</th>\n",
              "      <td>996.841049</td>\n",
              "      <td>15.504041</td>\n",
              "    </tr>\n",
              "    <tr>\n",
              "      <th>4997</th>\n",
              "      <td>991.723479</td>\n",
              "      <td>4.750185</td>\n",
              "    </tr>\n",
              "    <tr>\n",
              "      <th>4998</th>\n",
              "      <td>996.695706</td>\n",
              "      <td>14.807956</td>\n",
              "    </tr>\n",
              "    <tr>\n",
              "      <th>4999</th>\n",
              "      <td>990.824151</td>\n",
              "      <td>3.633904</td>\n",
              "    </tr>\n",
              "  </tbody>\n",
              "</table>\n",
              "<p>5000 rows × 2 columns</p>\n",
              "</div>"
            ],
            "text/plain": [
              "            Horas  Taxa de Cliques\n",
              "0     1007.084589         1.582099\n",
              "1     1005.886193         1.524809\n",
              "2     1005.609471         0.846857\n",
              "3      989.814354         2.841944\n",
              "4      995.328807         3.569900\n",
              "...           ...              ...\n",
              "4995   991.447007         5.428443\n",
              "4996   996.841049        15.504041\n",
              "4997   991.723479         4.750185\n",
              "4998   996.695706        14.807956\n",
              "4999   990.824151         3.633904\n",
              "\n",
              "[5000 rows x 2 columns]"
            ]
          },
          "metadata": {},
          "execution_count": 65
        }
      ]
    },
    {
      "cell_type": "code",
      "metadata": {
        "colab": {
          "base_uri": "https://localhost:8080/",
          "height": 296
        },
        "id": "qijLFWyFNzmp",
        "outputId": "b0e29a5b-ffd1-4db5-a757-9b78844affa8"
      },
      "source": [
        "sns.scatterplot(x='Horas', y='Taxa de Cliques', data=x)"
      ],
      "execution_count": 66,
      "outputs": [
        {
          "output_type": "execute_result",
          "data": {
            "text/plain": [
              "<matplotlib.axes._subplots.AxesSubplot at 0x7fc3809beb10>"
            ]
          },
          "metadata": {},
          "execution_count": 66
        },
        {
          "output_type": "display_data",
          "data": {
            "image/png": "[encoded data removed]",
            "text/plain": [
              "<Figure size 432x288 with 1 Axes>"
            ]
          },
          "metadata": {
            "needs_background": "light"
          }
        }
      ]
    },
    {
      "cell_type": "code",
      "metadata": {
        "id": "c0YyLUQ-QHMG"
      },
      "source": [
        "from sklearn.cluster import KMeans"
      ],
      "execution_count": 67,
      "outputs": []
    },
    {
      "cell_type": "code",
      "metadata": {
        "id": "aAC5JvU5OIFA"
      },
      "source": [
        "kmeans = KMeans(n_clusters=2, random_state=0)"
      ],
      "execution_count": 68,
      "outputs": []
    },
    {
      "cell_type": "code",
      "metadata": {
        "colab": {
          "base_uri": "https://localhost:8080/"
        },
        "id": "bbCE2XdkQw5s",
        "outputId": "d1e39163-99e2-4b65-ac27-a19babd7f833"
      },
      "source": [
        "kmeans.fit(x)"
      ],
      "execution_count": 69,
      "outputs": [
        {
          "output_type": "execute_result",
          "data": {
            "text/plain": [
              "KMeans(algorithm='auto', copy_x=True, init='k-means++', max_iter=300,\n",
              "       n_clusters=2, n_init=10, n_jobs=None, precompute_distances='auto',\n",
              "       random_state=0, tol=0.0001, verbose=0)"
            ]
          },
          "metadata": {},
          "execution_count": 69
        }
      ]
    },
    {
      "cell_type": "code",
      "metadata": {
        "colab": {
          "base_uri": "https://localhost:8080/"
        },
        "id": "s4J8oTPbQ1Gc",
        "outputId": "d910e3ff-e2df-4302-9338-eaa06f8f8fd7"
      },
      "source": [
        "kmeans.labels_"
      ],
      "execution_count": 70,
      "outputs": [
        {
          "output_type": "execute_result",
          "data": {
            "text/plain": [
              "array([1, 1, 1, ..., 0, 0, 0], dtype=int32)"
            ]
          },
          "metadata": {},
          "execution_count": 70
        }
      ]
    },
    {
      "cell_type": "code",
      "metadata": {
        "colab": {
          "base_uri": "https://localhost:8080/",
          "height": 296
        },
        "id": "A0wqC1P_Q4gh",
        "outputId": "f7cf35fd-cc4a-48bf-eb6f-3aadb34ba9ae"
      },
      "source": [
        "sns.scatterplot(x='Horas', y='Taxa de Cliques', data=x, hue=kmeans.labels_,\n",
        "                palette='viridis')"
      ],
      "execution_count": 71,
      "outputs": [
        {
          "output_type": "execute_result",
          "data": {
            "text/plain": [
              "<matplotlib.axes._subplots.AxesSubplot at 0x7fc37f6d7ad0>"
            ]
          },
          "metadata": {},
          "execution_count": 71
        },
        {
          "output_type": "display_data",
          "data": {
            "image/png": "[encoded data removed]",
            "text/plain": [
              "<Figure size 432x288 with 1 Axes>"
            ]
          },
          "metadata": {
            "needs_background": "light"
          }
        }
      ]
    },
    {
      "cell_type": "code",
      "metadata": {
        "id": "suUhYIl5ROn7"
      },
      "source": [
        "kmeans = KMeans(n_clusters=4, random_state=0)"
      ],
      "execution_count": 72,
      "outputs": []
    },
    {
      "cell_type": "code",
      "metadata": {
        "colab": {
          "base_uri": "https://localhost:8080/"
        },
        "id": "LtUveRlJTZmO",
        "outputId": "83406cfd-0699-48c4-97b4-d54036e53aa8"
      },
      "source": [
        "kmeans.fit(x)"
      ],
      "execution_count": 73,
      "outputs": [
        {
          "output_type": "execute_result",
          "data": {
            "text/plain": [
              "KMeans(algorithm='auto', copy_x=True, init='k-means++', max_iter=300,\n",
              "       n_clusters=4, n_init=10, n_jobs=None, precompute_distances='auto',\n",
              "       random_state=0, tol=0.0001, verbose=0)"
            ]
          },
          "metadata": {},
          "execution_count": 73
        }
      ]
    },
    {
      "cell_type": "code",
      "metadata": {
        "colab": {
          "base_uri": "https://localhost:8080/",
          "height": 296
        },
        "id": "1VcbzgczTe5Y",
        "outputId": "336aa3ae-f79a-41f9-f06b-76c6cc8f22fe"
      },
      "source": [
        "sns.scatterplot(x='Horas', y='Taxa de Cliques', data=x, hue=kmeans.labels_,\n",
        "                palette='viridis')"
      ],
      "execution_count": 74,
      "outputs": [
        {
          "output_type": "execute_result",
          "data": {
            "text/plain": [
              "<matplotlib.axes._subplots.AxesSubplot at 0x7fc3774726d0>"
            ]
          },
          "metadata": {},
          "execution_count": 74
        },
        {
          "output_type": "display_data",
          "data": {
            "image/png": "[encoded data removed]",
            "text/plain": [
              "<Figure size 432x288 with 1 Axes>"
            ]
          },
          "metadata": {
            "needs_background": "light"
          }
        }
      ]
    },
    {
      "cell_type": "code",
      "metadata": {
        "id": "rCyzffN6Tywd"
      },
      "source": [
        "from sklearn.cluster import OPTICS"
      ],
      "execution_count": 75,
      "outputs": []
    },
    {
      "cell_type": "code",
      "metadata": {
        "id": "F8vMJKw3ThKW"
      },
      "source": [
        "clustering_o = OPTICS(min_samples=800).fit(x)"
      ],
      "execution_count": 76,
      "outputs": []
    },
    {
      "cell_type": "code",
      "metadata": {
        "colab": {
          "base_uri": "https://localhost:8080/",
          "height": 296
        },
        "id": "ymACtunlT-tH",
        "outputId": "24d894b8-4024-465a-9d1f-be7dcf0bccac"
      },
      "source": [
        "sns.scatterplot(x='Horas', y='Taxa de Cliques', data=x, hue=clustering_o.labels_, palette='viridis')"
      ],
      "execution_count": 77,
      "outputs": [
        {
          "output_type": "execute_result",
          "data": {
            "text/plain": [
              "<matplotlib.axes._subplots.AxesSubplot at 0x7fc375b73c10>"
            ]
          },
          "metadata": {},
          "execution_count": 77
        },
        {
          "output_type": "display_data",
          "data": {
            "image/png": "[encoded data removed]",
            "text/plain": [
              "<Figure size 432x288 with 1 Axes>"
            ]
          },
          "metadata": {
            "needs_background": "light"
          }
        }
      ]
    },
    {
      "cell_type": "code",
      "metadata": {
        "id": "lnYi5fS_4PmM"
      },
      "source": [
        "from sklearn import metrics"
      ],
      "execution_count": 78,
      "outputs": []
    },
    {
      "cell_type": "code",
      "metadata": {
        "id": "NzRrToJTapE1"
      },
      "source": [
        "Classe_conhecida =engajamento['Classe']"
      ],
      "execution_count": 79,
      "outputs": []
    },
    {
      "cell_type": "code",
      "metadata": {
        "id": "pvz8rrZI3toY"
      },
      "source": [
        "Classe_estimada = clustering_o.labels_"
      ],
      "execution_count": 80,
      "outputs": []
    },
    {
      "cell_type": "code",
      "metadata": {
        "colab": {
          "base_uri": "https://localhost:8080/"
        },
        "id": "h6mBnCMf4Buy",
        "outputId": "6647d1b1-b5f3-453e-be02-9de1fe508c86"
      },
      "source": [
        "metrics.adjusted_rand_score(Classe_conhecida, Classe_estimada)"
      ],
      "execution_count": 81,
      "outputs": [
        {
          "output_type": "execute_result",
          "data": {
            "text/plain": [
              "0.9821047486293407"
            ]
          },
          "metadata": {},
          "execution_count": 81
        }
      ]
    },
    {
      "cell_type": "code",
      "metadata": {
        "id": "yP_Kadfw4Uu8"
      },
      "source": [
        "Classe_estimada = kmeans.labels_"
      ],
      "execution_count": 82,
      "outputs": []
    },
    {
      "cell_type": "code",
      "metadata": {
        "colab": {
          "base_uri": "https://localhost:8080/"
        },
        "id": "bP90tVZ-5wto",
        "outputId": "01460f5b-16de-48ba-a06a-a1a2cb7ac8ca"
      },
      "source": [
        "metrics.adjusted_rand_score(Classe_conhecida, Classe_estimada)"
      ],
      "execution_count": 83,
      "outputs": [
        {
          "output_type": "execute_result",
          "data": {
            "text/plain": [
              "0.9957444328155858"
            ]
          },
          "metadata": {},
          "execution_count": 83
        }
      ]
    },
    {
      "cell_type": "code",
      "metadata": {
        "colab": {
          "base_uri": "https://localhost:8080/"
        },
        "id": "oqSPFACc52gi",
        "outputId": "0000dabe-7f45-4cc4-9be7-a9ccaaea80f9"
      },
      "source": [
        "metrics.silhouette_score(x, kmeans.labels_, metric='euclidean')"
      ],
      "execution_count": 84,
      "outputs": [
        {
          "output_type": "execute_result",
          "data": {
            "text/plain": [
              "0.7640009351490763"
            ]
          },
          "metadata": {},
          "execution_count": 84
        }
      ]
    },
    {
      "cell_type": "code",
      "metadata": {
        "colab": {
          "base_uri": "https://localhost:8080/"
        },
        "id": "GZOs2mGU6dpf",
        "outputId": "7e148942-6a3a-4f1a-d402-90235e1592a2"
      },
      "source": [
        "metrics.silhouette_score(x, clustering_o.labels_, metric='euclidean')"
      ],
      "execution_count": 85,
      "outputs": [
        {
          "output_type": "execute_result",
          "data": {
            "text/plain": [
              "0.7590075270703337"
            ]
          },
          "metadata": {},
          "execution_count": 85
        }
      ]
    },
    {
      "cell_type": "code",
      "metadata": {
        "id": "oaaYCQoW6qt5"
      },
      "source": [
        ""
      ],
      "execution_count": 85,
      "outputs": []
    }
  ]
}